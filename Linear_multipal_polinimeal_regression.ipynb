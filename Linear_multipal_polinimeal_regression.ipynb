{
 "cells": [
  {
   "cell_type": "markdown",
   "id": "y6J165ENMkuu",
   "metadata": {
    "id": "y6J165ENMkuu"
   },
   "source": []
  },
  {
   "cell_type": "markdown",
   "id": "2bf651ea",
   "metadata": {
    "id": "2bf651ea"
   },
   "source": [
    "# Imporitng Libraries"
   ]
  },
  {
   "cell_type": "code",
   "execution_count": 2,
   "id": "48a91ee1",
   "metadata": {},
   "outputs": [
    {
     "name": "stdout",
     "output_type": "stream",
     "text": [
      "Collecting matplotlib\n",
      "  Downloading matplotlib-3.5.3-cp310-cp310-win_amd64.whl (7.2 MB)\n",
      "     ---------------------------------------- 7.2/7.2 MB 2.1 MB/s eta 0:00:00\n",
      "Requirement already satisfied: packaging>=20.0 in c:\\users\\dell\\appdata\\local\\programs\\python\\python310\\lib\\site-packages (from matplotlib) (21.3)\n",
      "Collecting fonttools>=4.22.0\n",
      "  Downloading fonttools-4.37.1-py3-none-any.whl (957 kB)\n",
      "     -------------------------------------- 957.2/957.2 kB 3.2 MB/s eta 0:00:00\n",
      "Collecting pillow>=6.2.0\n",
      "  Downloading Pillow-9.2.0-cp310-cp310-win_amd64.whl (3.3 MB)\n",
      "     ---------------------------------------- 3.3/3.3 MB 4.2 MB/s eta 0:00:00\n",
      "Requirement already satisfied: pyparsing>=2.2.1 in c:\\users\\dell\\appdata\\local\\programs\\python\\python310\\lib\\site-packages (from matplotlib) (3.0.9)\n",
      "Collecting kiwisolver>=1.0.1\n",
      "  Downloading kiwisolver-1.4.4-cp310-cp310-win_amd64.whl (55 kB)\n",
      "     -------------------------------------- 55.3/55.3 kB 957.9 kB/s eta 0:00:00\n",
      "Requirement already satisfied: python-dateutil>=2.7 in c:\\users\\dell\\appdata\\local\\programs\\python\\python310\\lib\\site-packages (from matplotlib) (2.8.2)\n",
      "Collecting cycler>=0.10\n",
      "  Using cached cycler-0.11.0-py3-none-any.whl (6.4 kB)\n",
      "Requirement already satisfied: numpy>=1.17 in c:\\users\\dell\\appdata\\local\\programs\\python\\python310\\lib\\site-packages (from matplotlib) (1.23.2)\n",
      "Requirement already satisfied: six>=1.5 in c:\\users\\dell\\appdata\\local\\programs\\python\\python310\\lib\\site-packages (from python-dateutil>=2.7->matplotlib) (1.16.0)\n",
      "Installing collected packages: pillow, kiwisolver, fonttools, cycler, matplotlib\n",
      "Successfully installed cycler-0.11.0 fonttools-4.37.1 kiwisolver-1.4.4 matplotlib-3.5.3 pillow-9.2.0\n",
      "Note: you may need to restart the kernel to use updated packages.\n"
     ]
    },
    {
     "name": "stderr",
     "output_type": "stream",
     "text": [
      "\n",
      "[notice] A new release of pip available: 22.2.1 -> 22.2.2\n",
      "[notice] To update, run: python.exe -m pip install --upgrade pip\n"
     ]
    }
   ],
   "source": [
    "pip install matplotlib"
   ]
  },
  {
   "cell_type": "code",
   "execution_count": 1,
   "id": "335a2583",
   "metadata": {
    "id": "335a2583"
   },
   "outputs": [],
   "source": [
    "import numpy as np\n",
    "import pandas as pd \n",
    "import matplotlib.pyplot as plt\n",
    "%matplotlib inline\n",
    "import seaborn as sns"
   ]
  },
  {
   "cell_type": "code",
   "execution_count": null,
   "id": "7cf79d81",
   "metadata": {
    "id": "7cf79d81"
   },
   "outputs": [],
   "source": [
    "#Importing Dataset\n",
    "df=pd.read_csv(\"dataset - Fish.csv\")"
   ]
  },
  {
   "cell_type": "code",
   "execution_count": null,
   "id": "833dbac6",
   "metadata": {
    "id": "833dbac6",
    "outputId": "22bb95e1-7fcf-4631-8f0f-e7abed6d13c7"
   },
   "outputs": [
    {
     "data": {
      "text/html": [
       "<div>\n",
       "<style scoped>\n",
       "    .dataframe tbody tr th:only-of-type {\n",
       "        vertical-align: middle;\n",
       "    }\n",
       "\n",
       "    .dataframe tbody tr th {\n",
       "        vertical-align: top;\n",
       "    }\n",
       "\n",
       "    .dataframe thead th {\n",
       "        text-align: right;\n",
       "    }\n",
       "</style>\n",
       "<table border=\"1\" class=\"dataframe\">\n",
       "  <thead>\n",
       "    <tr style=\"text-align: right;\">\n",
       "      <th></th>\n",
       "      <th>Species Type</th>\n",
       "      <th>Length1</th>\n",
       "      <th>Length2</th>\n",
       "      <th>Length3</th>\n",
       "      <th>Height</th>\n",
       "      <th>Width</th>\n",
       "      <th>Weight</th>\n",
       "    </tr>\n",
       "  </thead>\n",
       "  <tbody>\n",
       "    <tr>\n",
       "      <th>0</th>\n",
       "      <td>1</td>\n",
       "      <td>23.2</td>\n",
       "      <td>25.4</td>\n",
       "      <td>30.0</td>\n",
       "      <td>11.5200</td>\n",
       "      <td>4.0200</td>\n",
       "      <td>242.0</td>\n",
       "    </tr>\n",
       "    <tr>\n",
       "      <th>1</th>\n",
       "      <td>1</td>\n",
       "      <td>24.0</td>\n",
       "      <td>26.3</td>\n",
       "      <td>31.2</td>\n",
       "      <td>12.4800</td>\n",
       "      <td>4.3056</td>\n",
       "      <td>290.0</td>\n",
       "    </tr>\n",
       "    <tr>\n",
       "      <th>2</th>\n",
       "      <td>1</td>\n",
       "      <td>23.9</td>\n",
       "      <td>26.5</td>\n",
       "      <td>31.1</td>\n",
       "      <td>12.3778</td>\n",
       "      <td>4.6961</td>\n",
       "      <td>340.0</td>\n",
       "    </tr>\n",
       "    <tr>\n",
       "      <th>3</th>\n",
       "      <td>1</td>\n",
       "      <td>26.3</td>\n",
       "      <td>29.0</td>\n",
       "      <td>33.5</td>\n",
       "      <td>12.7300</td>\n",
       "      <td>4.4555</td>\n",
       "      <td>363.0</td>\n",
       "    </tr>\n",
       "    <tr>\n",
       "      <th>4</th>\n",
       "      <td>1</td>\n",
       "      <td>26.5</td>\n",
       "      <td>29.0</td>\n",
       "      <td>34.0</td>\n",
       "      <td>12.4440</td>\n",
       "      <td>5.1340</td>\n",
       "      <td>430.0</td>\n",
       "    </tr>\n",
       "  </tbody>\n",
       "</table>\n",
       "</div>"
      ],
      "text/plain": [
       "   Species Type  Length1  Length2  Length3   Height   Width  Weight\n",
       "0             1     23.2     25.4     30.0  11.5200  4.0200   242.0\n",
       "1             1     24.0     26.3     31.2  12.4800  4.3056   290.0\n",
       "2             1     23.9     26.5     31.1  12.3778  4.6961   340.0\n",
       "3             1     26.3     29.0     33.5  12.7300  4.4555   363.0\n",
       "4             1     26.5     29.0     34.0  12.4440  5.1340   430.0"
      ]
     },
     "execution_count": 3,
     "metadata": {},
     "output_type": "execute_result"
    }
   ],
   "source": [
    "#viewing first 5 rows\n",
    "df.head()"
   ]
  },
  {
   "cell_type": "code",
   "execution_count": null,
   "id": "9889132c",
   "metadata": {
    "id": "9889132c",
    "outputId": "262854c9-f1f1-4b6a-bea3-216db6ba2853"
   },
   "outputs": [
    {
     "data": {
      "text/plain": [
       "<bound method DataFrame.sort_values of               Species Type   Length1   Length2   Length3    Height     Width  \\\n",
       "Species Type      1.000000 -0.112722 -0.129211 -0.223358 -0.689374 -0.299717   \n",
       "Length1          -0.112722  1.000000  0.999517  0.992031  0.625378  0.867050   \n",
       "Length2          -0.129211  0.999517  1.000000  0.994103  0.640441  0.873547   \n",
       "Length3          -0.223358  0.992031  0.994103  1.000000  0.703409  0.878520   \n",
       "Height           -0.689374  0.625378  0.640441  0.703409  1.000000  0.792881   \n",
       "Width            -0.299717  0.867050  0.873547  0.878520  0.792881  1.000000   \n",
       "Weight           -0.173405  0.915712  0.918618  0.923044  0.724345  0.886507   \n",
       "\n",
       "                Weight  \n",
       "Species Type -0.173405  \n",
       "Length1       0.915712  \n",
       "Length2       0.918618  \n",
       "Length3       0.923044  \n",
       "Height        0.724345  \n",
       "Width         0.886507  \n",
       "Weight        1.000000  >"
      ]
     },
     "execution_count": 5,
     "metadata": {},
     "output_type": "execute_result"
    }
   ],
   "source": [
    "#Checking the correlation with target variable\n",
    "df.corr().sort_values"
   ]
  },
  {
   "cell_type": "code",
   "execution_count": null,
   "id": "db1021fc",
   "metadata": {
    "id": "db1021fc",
    "outputId": "049220ad-585f-4079-f085-b9e374efad16"
   },
   "outputs": [
    {
     "name": "stdout",
     "output_type": "stream",
     "text": [
      "<class 'pandas.core.frame.DataFrame'>\n",
      "RangeIndex: 159 entries, 0 to 158\n",
      "Data columns (total 7 columns):\n",
      " #   Column        Non-Null Count  Dtype  \n",
      "---  ------        --------------  -----  \n",
      " 0   Species Type  159 non-null    int64  \n",
      " 1   Length1       159 non-null    float64\n",
      " 2   Length2       159 non-null    float64\n",
      " 3   Length3       159 non-null    float64\n",
      " 4   Height        159 non-null    float64\n",
      " 5   Width         159 non-null    float64\n",
      " 6   Weight        159 non-null    float64\n",
      "dtypes: float64(6), int64(1)\n",
      "memory usage: 8.8 KB\n"
     ]
    }
   ],
   "source": [
    "#Getting information about these data and checking datatype of each columns\n",
    "df.info()"
   ]
  },
  {
   "cell_type": "code",
   "execution_count": null,
   "id": "b329068d",
   "metadata": {
    "id": "b329068d",
    "outputId": "b423846e-6cc4-4500-b281-2945fbd73dba"
   },
   "outputs": [
    {
     "data": {
      "text/plain": [
       "Species Type    0\n",
       "Length1         0\n",
       "Length2         0\n",
       "Length3         0\n",
       "Height          0\n",
       "Width           0\n",
       "Weight          0\n",
       "dtype: int64"
      ]
     },
     "execution_count": 7,
     "metadata": {},
     "output_type": "execute_result"
    }
   ],
   "source": [
    "#Checking Null Values in each columns\n",
    "df.isna().sum()"
   ]
  },
  {
   "cell_type": "code",
   "execution_count": null,
   "id": "b16c8694",
   "metadata": {
    "id": "b16c8694",
    "outputId": "8d849f5d-15cd-4340-9f1e-69bd3d43f33c"
   },
   "outputs": [
    {
     "data": {
      "text/plain": [
       "(159, 7)"
      ]
     },
     "execution_count": 8,
     "metadata": {},
     "output_type": "execute_result"
    }
   ],
   "source": [
    "df.shape"
   ]
  },
  {
   "cell_type": "markdown",
   "id": "NS0a0aAlOLZW",
   "metadata": {
    "id": "NS0a0aAlOLZW"
   },
   "source": [
    "# **EDA**"
   ]
  },
  {
   "cell_type": "markdown",
   "id": "45fa935b",
   "metadata": {
    "id": "45fa935b"
   },
   "source": [
    "# Detecting Ouliers"
   ]
  },
  {
   "cell_type": "code",
   "execution_count": null,
   "id": "d7bcb1be",
   "metadata": {
    "id": "d7bcb1be",
    "outputId": "984bc8da-caec-423e-d5fe-28c882cf149d"
   },
   "outputs": [
    {
     "data": {
      "text/plain": [
       "<AxesSubplot:>"
      ]
     },
     "execution_count": 9,
     "metadata": {},
     "output_type": "execute_result"
    },
    {
     "data": {
      "image/png": "[encoded data removed]",
      "text/plain": [
       "<Figure size 432x288 with 1 Axes>"
      ]
     },
     "metadata": {
      "needs_background": "light"
     },
     "output_type": "display_data"
    }
   ],
   "source": [
    "df.boxplot(column='Length1')"
   ]
  },
  {
   "cell_type": "code",
   "execution_count": null,
   "id": "d73248f1",
   "metadata": {
    "id": "d73248f1",
    "outputId": "a078c961-5bc8-4f71-f1fc-91831b085d4c"
   },
   "outputs": [
    {
     "data": {
      "text/plain": [
       "<AxesSubplot:>"
      ]
     },
     "execution_count": 10,
     "metadata": {},
     "output_type": "execute_result"
    },
    {
     "data": {
      "image/png": "[encoded data removed]",
      "text/plain": [
       "<Figure size 432x288 with 1 Axes>"
      ]
     },
     "metadata": {
      "needs_background": "light"
     },
     "output_type": "display_data"
    }
   ],
   "source": [
    "df.boxplot(column='Length2')"
   ]
  },
  {
   "cell_type": "code",
   "execution_count": null,
   "id": "8f724bff",
   "metadata": {
    "id": "8f724bff",
    "outputId": "ab380949-28b1-4866-8b6f-f2debf2b3f9f"
   },
   "outputs": [
    {
     "data": {
      "text/plain": [
       "<AxesSubplot:>"
      ]
     },
     "execution_count": 11,
     "metadata": {},
     "output_type": "execute_result"
    },
    {
     "data": {
      "image/png": "[encoded data removed]",
      "text/plain": [
       "<Figure size 432x288 with 1 Axes>"
      ]
     },
     "metadata": {
      "needs_background": "light"
     },
     "output_type": "display_data"
    }
   ],
   "source": [
    "df.boxplot(column='Length3')"
   ]
  },
  {
   "cell_type": "code",
   "execution_count": null,
   "id": "92ad8db8",
   "metadata": {
    "id": "92ad8db8",
    "outputId": "7c29a262-12a2-4d00-c745-8fd67ba66a57"
   },
   "outputs": [
    {
     "data": {
      "text/plain": [
       "<AxesSubplot:>"
      ]
     },
     "execution_count": 12,
     "metadata": {},
     "output_type": "execute_result"
    },
    {
     "data": {
      "image/png": "[encoded data removed]",
      "text/plain": [
       "<Figure size 432x288 with 1 Axes>"
      ]
     },
     "metadata": {
      "needs_background": "light"
     },
     "output_type": "display_data"
    }
   ],
   "source": [
    "df.boxplot(column='Weight')"
   ]
  },
  {
   "cell_type": "markdown",
   "id": "e94daf83",
   "metadata": {
    "id": "e94daf83"
   },
   "source": [
    "# Implementing Linear regressions model Taking features X and Y as target variables"
   ]
  },
  {
   "cell_type": "code",
   "execution_count": null,
   "id": "59c9903e",
   "metadata": {
    "id": "59c9903e"
   },
   "outputs": [],
   "source": [
    "X=df['Length3']\n",
    "y=df['Weight']"
   ]
  },
  {
   "cell_type": "markdown",
   "id": "62f8330f",
   "metadata": {
    "id": "62f8330f"
   },
   "source": [
    "# Splitting Dataset as Train and Test Split"
   ]
  },
  {
   "cell_type": "code",
   "execution_count": null,
   "id": "aad87ab8",
   "metadata": {
    "id": "aad87ab8"
   },
   "outputs": [],
   "source": [
    "from sklearn.model_selection import train_test_split\n",
    "X_train,X_test,y_train,y_test=train_test_split(X,y,test_size=0.8,random_state=0)"
   ]
  },
  {
   "cell_type": "markdown",
   "id": "8abe8126",
   "metadata": {
    "id": "8abe8126"
   },
   "source": [
    "# Changing array from 1D to 2D"
   ]
  },
  {
   "cell_type": "code",
   "execution_count": null,
   "id": "1e7b2696",
   "metadata": {
    "id": "1e7b2696"
   },
   "outputs": [],
   "source": [
    "X_train=X_train.values.reshape(-1,1)\n",
    "X_test=X_test.values.reshape(-1,1)"
   ]
  },
  {
   "cell_type": "markdown",
   "id": "b24c1f61",
   "metadata": {
    "id": "b24c1f61"
   },
   "source": [
    "# Importing Linear Regression Model"
   ]
  },
  {
   "cell_type": "code",
   "execution_count": null,
   "id": "a806f7f3",
   "metadata": {
    "id": "a806f7f3",
    "outputId": "10056cef-907a-4867-f9b2-c96c8aa5e26b"
   },
   "outputs": [
    {
     "data": {
      "text/plain": [
       "LinearRegression()"
      ]
     },
     "execution_count": 24,
     "metadata": {},
     "output_type": "execute_result"
    }
   ],
   "source": [
    "from sklearn.linear_model import LinearRegression\n",
    "reg=LinearRegression()\n",
    "reg.fit(X_train,y_train)"
   ]
  },
  {
   "cell_type": "markdown",
   "id": "e400711d",
   "metadata": {
    "id": "e400711d"
   },
   "source": [
    "# Getting Value of m"
   ]
  },
  {
   "cell_type": "code",
   "execution_count": null,
   "id": "9b56950a",
   "metadata": {
    "id": "9b56950a",
    "outputId": "dce196cb-799f-47e8-ba50-4c88869eec06"
   },
   "outputs": [
    {
     "name": "stdout",
     "output_type": "stream",
     "text": [
      "[26.57631875]\n"
     ]
    }
   ],
   "source": [
    "print(reg.coef_)"
   ]
  },
  {
   "cell_type": "markdown",
   "id": "937314f4",
   "metadata": {
    "id": "937314f4"
   },
   "source": [
    "# Getting Value of c"
   ]
  },
  {
   "cell_type": "code",
   "execution_count": null,
   "id": "60e25027",
   "metadata": {
    "id": "60e25027",
    "outputId": "cdae12b7-c5c0-4f95-be85-6aa0f0426946"
   },
   "outputs": [
    {
     "name": "stdout",
     "output_type": "stream",
     "text": [
      "-414.8965337105259\n"
     ]
    }
   ],
   "source": [
    "print(reg.intercept_)"
   ]
  },
  {
   "cell_type": "markdown",
   "id": "2b168bfc",
   "metadata": {
    "id": "2b168bfc"
   },
   "source": [
    "# Predicting Value of X_test"
   ]
  },
  {
   "cell_type": "code",
   "execution_count": null,
   "id": "c602e711",
   "metadata": {
    "id": "c602e711"
   },
   "outputs": [],
   "source": [
    "y_pred=reg.predict(X_test)"
   ]
  },
  {
   "cell_type": "code",
   "execution_count": null,
   "id": "d602691a",
   "metadata": {
    "id": "d602691a",
    "outputId": "61fa0d35-d956-428a-bb9f-79a388a17372"
   },
   "outputs": [
    {
     "name": "stdout",
     "output_type": "stream",
     "text": [
      "[ 515.27462261  191.04353384  249.51143509  257.48433072  555.13910074\n",
      "  714.59701325  637.52568887  642.84095262  804.95649701  183.07063821\n",
      "  509.95935886  794.32596951  741.173332    807.61412888   47.53141257\n",
      "  148.52142383  230.90801196 1285.98786642  191.04353384  664.10200762\n",
      "   23.6127257   515.27462261  209.64695696 1392.29314143  111.31457758\n",
      "  517.93225448  661.44437575  363.78960572  709.2817495   -95.98070869\n",
      "  613.60700199  209.64695696 1285.98786642  616.26463387  602.97647449\n",
      "  262.79959447  385.05066072  640.18332074  602.97647449  209.64695696\n",
      "  488.69830386   10.32456632  262.79959447  688.0206945   -10.93648868\n",
      "  302.66407259  326.58275947  329.24039135  610.94937012  424.91513885\n",
      "  757.11912325  -24.22464806  -48.14333493  411.62697948  137.89089633\n",
      "  241.53853946  355.8167101   547.16620511  -80.03491744  661.44437575\n",
      "  -64.08912618 -106.61123619  201.67406134  228.25038009  236.22327571\n",
      " -127.87229119 1171.70969578  794.32596951  714.59701325  297.34880884\n",
      "  281.40301759  222.93511634  151.17905571  682.70543075  366.4472376\n",
      "  270.77249009  294.69117697  307.97933634  576.40015574  879.37018951\n",
      "  664.10200762  576.40015574  634.86805699  573.74252386  100.68405008\n",
      "  361.13197385   76.7653632   475.41014448   15.63983007  794.32596951\n",
      "  501.98646323  225.59274821   42.21614882  183.07063821  621.57989762\n",
      "  552.48146886  711.93938137  573.74252386  770.40728263  222.93511634\n",
      "  802.29886513  249.51143509  547.16620511  347.84381447   15.63983007\n",
      "  403.65408385  199.01642946  -56.11623056  180.41300633  414.28461135\n",
      "  589.68831512 -106.61123619  214.96222071  353.15907822  488.69830386\n",
      "  860.76676639  608.29173824  685.36306262  353.15907822  175.09774258\n",
      "  507.30172698  398.3388201   -66.74675806  786.35307388  382.39302885\n",
      "  820.90228826  690.67832637  347.84381447]\n"
     ]
    }
   ],
   "source": [
    "print(y_pred)"
   ]
  },
  {
   "cell_type": "markdown",
   "id": "83864c1b",
   "metadata": {
    "id": "83864c1b"
   },
   "source": [
    "# Visualizations through scatterplot of X and Y"
   ]
  },
  {
   "cell_type": "code",
   "execution_count": null,
   "id": "2a534461",
   "metadata": {
    "id": "2a534461",
    "outputId": "fbb1deb7-aedc-4c7e-f7e2-68a69651b8d3"
   },
   "outputs": [
    {
     "data": {
      "image/png": "[encoded data removed]",
      "text/plain": [
       "<Figure size 432x288 with 1 Axes>"
      ]
     },
     "metadata": {
      "needs_background": "light"
     },
     "output_type": "display_data"
    }
   ],
   "source": [
    "plt.scatter(X_train,y_train,color='red')\n",
    "plt.title(\"Length vs Weight\")\n",
    "plt.xlabel('Length')\n",
    "plt.ylabel('Weight')\n",
    "plt.show()"
   ]
  },
  {
   "cell_type": "markdown",
   "id": "41afc608",
   "metadata": {
    "id": "41afc608"
   },
   "source": [
    "# Visualization of model best fit line of Length and Weight"
   ]
  },
  {
   "cell_type": "code",
   "execution_count": null,
   "id": "bd7e9deb",
   "metadata": {
    "id": "bd7e9deb",
    "outputId": "f12b4024-305b-4f7a-8788-e57f5cb63e15"
   },
   "outputs": [
    {
     "data": {
      "image/png": "[encoded data removed]",
      "text/plain": [
       "<Figure size 432x288 with 1 Axes>"
      ]
     },
     "metadata": {
      "needs_background": "light"
     },
     "output_type": "display_data"
    }
   ],
   "source": [
    "plt.scatter(X_train,y_train,color='red')\n",
    "plt.plot(X_train,reg.predict(X_train),color='blue')\n",
    "plt.title(\"Length vs Weight\")\n",
    "plt.xlabel('Length')\n",
    "plt.ylabel('Weight')\n",
    "plt.show()"
   ]
  },
  {
   "cell_type": "code",
   "execution_count": null,
   "id": "a3b813c2",
   "metadata": {
    "id": "a3b813c2"
   },
   "outputs": [],
   "source": []
  },
  {
   "cell_type": "markdown",
   "id": "27e533a2",
   "metadata": {
    "id": "27e533a2"
   },
   "source": [
    "# Getting Accuracy of Model"
   ]
  },
  {
   "cell_type": "code",
   "execution_count": null,
   "id": "3fb9a11a",
   "metadata": {
    "id": "3fb9a11a",
    "outputId": "3eb86594-40b8-4ca9-d51c-f70d48168ead"
   },
   "outputs": [
    {
     "data": {
      "text/plain": [
       "0.8392117383872504"
      ]
     },
     "execution_count": 21,
     "metadata": {},
     "output_type": "execute_result"
    }
   ],
   "source": [
    "from sklearn.metrics import r2_score\n",
    "r2_score(y_test, y_pred)"
   ]
  },
  {
   "cell_type": "markdown",
   "id": "b89188fe",
   "metadata": {
    "id": "b89188fe"
   },
   "source": [
    "# Counting Number of Species using countplot"
   ]
  },
  {
   "cell_type": "code",
   "execution_count": null,
   "id": "2f5ad21d",
   "metadata": {
    "id": "2f5ad21d",
    "outputId": "3c33a0e4-9c6e-4340-9b7a-cf44b0daa1a8"
   },
   "outputs": [
    {
     "data": {
      "text/plain": [
       "<AxesSubplot:xlabel='Species Type', ylabel='count'>"
      ]
     },
     "execution_count": 22,
     "metadata": {},
     "output_type": "execute_result"
    },
    {
     "data": {
      "image/png": "[encoded data removed]",
      "text/plain": [
       "<Figure size 432x288 with 1 Axes>"
      ]
     },
     "metadata": {
      "needs_background": "light"
     },
     "output_type": "display_data"
    }
   ],
   "source": [
    "sns.countplot(x='Species Type',data=df)"
   ]
  },
  {
   "cell_type": "markdown",
   "id": "1d73a6e1",
   "metadata": {
    "id": "1d73a6e1"
   },
   "source": [
    "# Correlation using visualizations"
   ]
  },
  {
   "cell_type": "code",
   "execution_count": null,
   "id": "d8847bb6",
   "metadata": {
    "id": "d8847bb6",
    "outputId": "b2f28d9f-eec1-4ebe-96b4-8dc236f92a61",
    "scrolled": true
   },
   "outputs": [
    {
     "data": {
      "text/plain": [
       "<AxesSubplot:title={'center':'Correlation Matrix'}>"
      ]
     },
     "execution_count": 23,
     "metadata": {},
     "output_type": "execute_result"
    },
    {
     "data": {
      "image/png": "[encoded data removed]",
      "text/plain": [
       "<Figure size 1800x1800 with 2 Axes>"
      ]
     },
     "metadata": {
      "needs_background": "light"
     },
     "output_type": "display_data"
    }
   ],
   "source": [
    "plt.figure(figsize=(25,25))\n",
    "plt.title(\"Correlation Matrix\")\n",
    "colormap=sns.color_palette('viridis',as_cmap=True)\n",
    "sns.heatmap(round(df.corr(), 2), annot=True)"
   ]
  },
  {
   "cell_type": "markdown",
   "id": "a862f945",
   "metadata": {
    "id": "a862f945"
   },
   "source": [
    "# Computing R-Squared Value"
   ]
  },
  {
   "cell_type": "code",
   "execution_count": null,
   "id": "f2ba8f6f",
   "metadata": {
    "id": "f2ba8f6f"
   },
   "outputs": [],
   "source": [
    "from sklearn import metrics"
   ]
  },
  {
   "cell_type": "code",
   "execution_count": null,
   "id": "234aaf60",
   "metadata": {
    "id": "234aaf60",
    "outputId": "6993088c-2c98-473c-bb62-4acf07d6f8b6"
   },
   "outputs": [
    {
     "name": "stdout",
     "output_type": "stream",
     "text": [
      "Sqaured mean error 144.09\n",
      "R squared training 0.877\n",
      "R sqaured testing 0.839\n",
      "intercept -414.8965337105259\n",
      "coefficient [26.57631875]\n"
     ]
    }
   ],
   "source": [
    "mean_squared_error=metrics.mean_squared_error(y_test,y_pred)\n",
    "print('Sqaured mean error', round(np.sqrt(mean_squared_error),2))\n",
    "print('R squared training',round(reg.score(X_train,y_train),3))\n",
    "print('R sqaured testing',round(reg.score(X_test,y_test),3) )\n",
    "print('intercept',reg.intercept_)\n",
    "print('coefficient',reg.coef_)"
   ]
  },
  {
   "cell_type": "markdown",
   "id": "d1cb29ae",
   "metadata": {
    "id": "d1cb29ae"
   },
   "source": [
    "# Implementing Multiple Linear Regressions"
   ]
  },
  {
   "cell_type": "code",
   "execution_count": null,
   "id": "02c23504",
   "metadata": {
    "id": "02c23504",
    "outputId": "482de39b-bcdf-434c-e117-2ef077ca38f7"
   },
   "outputs": [
    {
     "data": {
      "text/html": [
       "<div>\n",
       "<style scoped>\n",
       "    .dataframe tbody tr th:only-of-type {\n",
       "        vertical-align: middle;\n",
       "    }\n",
       "\n",
       "    .dataframe tbody tr th {\n",
       "        vertical-align: top;\n",
       "    }\n",
       "\n",
       "    .dataframe thead th {\n",
       "        text-align: right;\n",
       "    }\n",
       "</style>\n",
       "<table border=\"1\" class=\"dataframe\">\n",
       "  <thead>\n",
       "    <tr style=\"text-align: right;\">\n",
       "      <th></th>\n",
       "      <th>Species Type</th>\n",
       "      <th>Length1</th>\n",
       "      <th>Length2</th>\n",
       "      <th>Length3</th>\n",
       "      <th>Height</th>\n",
       "      <th>Width</th>\n",
       "      <th>Weight</th>\n",
       "    </tr>\n",
       "  </thead>\n",
       "  <tbody>\n",
       "    <tr>\n",
       "      <th>0</th>\n",
       "      <td>1</td>\n",
       "      <td>23.2</td>\n",
       "      <td>25.4</td>\n",
       "      <td>30.0</td>\n",
       "      <td>11.5200</td>\n",
       "      <td>4.0200</td>\n",
       "      <td>242.0</td>\n",
       "    </tr>\n",
       "    <tr>\n",
       "      <th>1</th>\n",
       "      <td>1</td>\n",
       "      <td>24.0</td>\n",
       "      <td>26.3</td>\n",
       "      <td>31.2</td>\n",
       "      <td>12.4800</td>\n",
       "      <td>4.3056</td>\n",
       "      <td>290.0</td>\n",
       "    </tr>\n",
       "    <tr>\n",
       "      <th>2</th>\n",
       "      <td>1</td>\n",
       "      <td>23.9</td>\n",
       "      <td>26.5</td>\n",
       "      <td>31.1</td>\n",
       "      <td>12.3778</td>\n",
       "      <td>4.6961</td>\n",
       "      <td>340.0</td>\n",
       "    </tr>\n",
       "    <tr>\n",
       "      <th>3</th>\n",
       "      <td>1</td>\n",
       "      <td>26.3</td>\n",
       "      <td>29.0</td>\n",
       "      <td>33.5</td>\n",
       "      <td>12.7300</td>\n",
       "      <td>4.4555</td>\n",
       "      <td>363.0</td>\n",
       "    </tr>\n",
       "    <tr>\n",
       "      <th>4</th>\n",
       "      <td>1</td>\n",
       "      <td>26.5</td>\n",
       "      <td>29.0</td>\n",
       "      <td>34.0</td>\n",
       "      <td>12.4440</td>\n",
       "      <td>5.1340</td>\n",
       "      <td>430.0</td>\n",
       "    </tr>\n",
       "  </tbody>\n",
       "</table>\n",
       "</div>"
      ],
      "text/plain": [
       "   Species Type  Length1  Length2  Length3   Height   Width  Weight\n",
       "0             1     23.2     25.4     30.0  11.5200  4.0200   242.0\n",
       "1             1     24.0     26.3     31.2  12.4800  4.3056   290.0\n",
       "2             1     23.9     26.5     31.1  12.3778  4.6961   340.0\n",
       "3             1     26.3     29.0     33.5  12.7300  4.4555   363.0\n",
       "4             1     26.5     29.0     34.0  12.4440  5.1340   430.0"
      ]
     },
     "execution_count": 26,
     "metadata": {},
     "output_type": "execute_result"
    }
   ],
   "source": [
    "df.head()"
   ]
  },
  {
   "cell_type": "code",
   "execution_count": null,
   "id": "5526d6ba",
   "metadata": {
    "id": "5526d6ba",
    "outputId": "66b27831-9f9e-4055-fa35-935d4c7a9731"
   },
   "outputs": [
    {
     "data": {
      "text/plain": [
       "<bound method DataFrame.sort_values of               Species Type   Length1   Length2   Length3    Height     Width  \\\n",
       "Species Type      1.000000 -0.112722 -0.129211 -0.223358 -0.689374 -0.299717   \n",
       "Length1          -0.112722  1.000000  0.999517  0.992031  0.625378  0.867050   \n",
       "Length2          -0.129211  0.999517  1.000000  0.994103  0.640441  0.873547   \n",
       "Length3          -0.223358  0.992031  0.994103  1.000000  0.703409  0.878520   \n",
       "Height           -0.689374  0.625378  0.640441  0.703409  1.000000  0.792881   \n",
       "Width            -0.299717  0.867050  0.873547  0.878520  0.792881  1.000000   \n",
       "Weight           -0.173405  0.915712  0.918618  0.923044  0.724345  0.886507   \n",
       "\n",
       "                Weight  \n",
       "Species Type -0.173405  \n",
       "Length1       0.915712  \n",
       "Length2       0.918618  \n",
       "Length3       0.923044  \n",
       "Height        0.724345  \n",
       "Width         0.886507  \n",
       "Weight        1.000000  >"
      ]
     },
     "execution_count": 27,
     "metadata": {},
     "output_type": "execute_result"
    }
   ],
   "source": [
    "df.corr().sort_values"
   ]
  },
  {
   "cell_type": "code",
   "execution_count": null,
   "id": "7ddbf887",
   "metadata": {
    "id": "7ddbf887",
    "outputId": "06c00ed7-ea7d-4314-e6ee-1fc1eea8022e"
   },
   "outputs": [
    {
     "data": {
      "text/plain": [
       "<AxesSubplot:>"
      ]
     },
     "execution_count": 28,
     "metadata": {},
     "output_type": "execute_result"
    },
    {
     "data": {
      "image/png": "[encoded data removed]",
      "text/plain": [
       "<Figure size 432x288 with 1 Axes>"
      ]
     },
     "metadata": {
      "needs_background": "light"
     },
     "output_type": "display_data"
    }
   ],
   "source": [
    "##We are taking three features for multiple linear regressions i.e Length1,Length2,Length3\n",
    "#finding the outliers with respect to output variables Length1,Length2,Length3 and Weight\n",
    "df.boxplot(column=['Length1','Length2','Length3'])"
   ]
  },
  {
   "cell_type": "code",
   "execution_count": null,
   "id": "392d37e2",
   "metadata": {
    "id": "392d37e2"
   },
   "outputs": [],
   "source": [
    "X=df[['Length1','Length2','Length3']]\n",
    "y=df[['Weight']]"
   ]
  },
  {
   "cell_type": "code",
   "execution_count": null,
   "id": "98091be4",
   "metadata": {
    "id": "98091be4",
    "outputId": "d1913458-847a-4305-f4fd-2488e6124c62"
   },
   "outputs": [
    {
     "name": "stdout",
     "output_type": "stream",
     "text": [
      "     Length1  Length2  Length3\n",
      "0       23.2     25.4     30.0\n",
      "1       24.0     26.3     31.2\n",
      "2       23.9     26.5     31.1\n",
      "3       26.3     29.0     33.5\n",
      "4       26.5     29.0     34.0\n",
      "..       ...      ...      ...\n",
      "154     11.5     12.2     13.4\n",
      "155     11.7     12.4     13.5\n",
      "156     12.1     13.0     13.8\n",
      "157     13.2     14.3     15.2\n",
      "158     13.8     15.0     16.2\n",
      "\n",
      "[159 rows x 3 columns]\n"
     ]
    }
   ],
   "source": [
    "print(X)"
   ]
  },
  {
   "cell_type": "code",
   "execution_count": null,
   "id": "3599ac48",
   "metadata": {
    "id": "3599ac48",
    "outputId": "8c0e72db-915a-4147-9b68-fbbb9db4444a"
   },
   "outputs": [
    {
     "name": "stdout",
     "output_type": "stream",
     "text": [
      "     Weight\n",
      "0     242.0\n",
      "1     290.0\n",
      "2     340.0\n",
      "3     363.0\n",
      "4     430.0\n",
      "..      ...\n",
      "154    12.2\n",
      "155    13.4\n",
      "156    12.2\n",
      "157    19.7\n",
      "158    19.9\n",
      "\n",
      "[159 rows x 1 columns]\n"
     ]
    }
   ],
   "source": [
    "print(y)"
   ]
  },
  {
   "cell_type": "code",
   "execution_count": null,
   "id": "5fa718b3",
   "metadata": {
    "id": "5fa718b3"
   },
   "outputs": [],
   "source": [
    "from sklearn.model_selection import train_test_split\n",
    "X_train,X_test,y_train,y_test=train_test_split(X,y,test_size=0.2,random_state=0)"
   ]
  },
  {
   "cell_type": "code",
   "execution_count": null,
   "id": "2ac925ba",
   "metadata": {
    "id": "2ac925ba",
    "outputId": "18e3063a-f7b5-4934-b49d-715187c74c66"
   },
   "outputs": [
    {
     "data": {
      "text/plain": [
       "LinearRegression()"
      ]
     },
     "execution_count": 33,
     "metadata": {},
     "output_type": "execute_result"
    }
   ],
   "source": [
    "from sklearn.linear_model import LinearRegression\n",
    "regressor = LinearRegression()\n",
    "regressor.fit(X_train, y_train)"
   ]
  },
  {
   "cell_type": "code",
   "execution_count": null,
   "id": "9f8e95c4",
   "metadata": {
    "id": "9f8e95c4"
   },
   "outputs": [],
   "source": [
    "y_pred = regressor.predict(X_test)\n",
    "#np.set_printoptions(precision=2)\n",
    "#print(np.concatenate((y_pred.reshape(len(y_pred),1), y_test.reshape(len(y_test),1)),1))"
   ]
  },
  {
   "cell_type": "code",
   "execution_count": null,
   "id": "f9a016df",
   "metadata": {
    "id": "f9a016df",
    "outputId": "3a5370dd-df67-48b4-d7ed-1b097ea87478"
   },
   "outputs": [
    {
     "data": {
      "text/plain": [
       "0.8673671065460835"
      ]
     },
     "execution_count": 35,
     "metadata": {},
     "output_type": "execute_result"
    }
   ],
   "source": [
    "from sklearn.metrics import r2_score\n",
    "r2_score(y_test, y_pred)"
   ]
  },
  {
   "cell_type": "markdown",
   "id": "1f9dd904",
   "metadata": {
    "id": "1f9dd904"
   },
   "source": [
    "# Implementing Polynomial Regressions"
   ]
  },
  {
   "cell_type": "code",
   "execution_count": null,
   "id": "e03fc0b0",
   "metadata": {
    "id": "e03fc0b0",
    "outputId": "5a4f7b0d-9f9f-463a-fb2b-2ebadda37352"
   },
   "outputs": [
    {
     "data": {
      "text/plain": [
       "(159, 7)"
      ]
     },
     "execution_count": 30,
     "metadata": {},
     "output_type": "execute_result"
    }
   ],
   "source": [
    "df.shape"
   ]
  },
  {
   "cell_type": "code",
   "execution_count": null,
   "id": "895e247a",
   "metadata": {
    "id": "895e247a"
   },
   "outputs": [],
   "source": [
    "X = df.iloc[:,1:-1].values\n",
    "y = df.iloc[:, -1].values"
   ]
  },
  {
   "cell_type": "code",
   "execution_count": null,
   "id": "2e1cb37c",
   "metadata": {
    "id": "2e1cb37c",
    "outputId": "9d53f7aa-feb0-48d1-86a2-74edbefe1b17"
   },
   "outputs": [
    {
     "name": "stdout",
     "output_type": "stream",
     "text": [
      "[[23.2    25.4    30.     11.52    4.02  ]\n",
      " [24.     26.3    31.2    12.48    4.3056]\n",
      " [23.9    26.5    31.1    12.3778  4.6961]\n",
      " [26.3    29.     33.5    12.73    4.4555]\n",
      " [26.5    29.     34.     12.444   5.134 ]\n",
      " [26.8    29.7    34.7    13.6024  4.9274]\n",
      " [26.8    29.7    34.5    14.1795  5.2785]\n",
      " [27.6    30.     35.     12.67    4.69  ]\n",
      " [27.6    30.     35.1    14.0049  4.8438]\n",
      " [28.5    30.7    36.2    14.2266  4.9594]\n",
      " [28.4    31.     36.2    14.2628  5.1042]\n",
      " [28.7    31.     36.2    14.3714  4.8146]\n",
      " [29.1    31.5    36.4    13.7592  4.368 ]\n",
      " [29.5    32.     37.3    13.9129  5.0728]\n",
      " [29.4    32.     37.2    14.9544  5.1708]\n",
      " [29.4    32.     37.2    15.438   5.58  ]\n",
      " [30.4    33.     38.3    14.8604  5.2854]\n",
      " [30.4    33.     38.5    14.938   5.1975]\n",
      " [30.9    33.5    38.6    15.633   5.1338]\n",
      " [31.     33.5    38.7    14.4738  5.7276]\n",
      " [31.3    34.     39.5    15.1285  5.5695]\n",
      " [31.4    34.     39.2    15.9936  5.3704]\n",
      " [31.5    34.5    39.7    15.5227  5.2801]\n",
      " [31.8    35.     40.6    15.4686  6.1306]\n",
      " [31.9    35.     40.5    16.2405  5.589 ]\n",
      " [31.8    35.     40.9    16.36    6.0532]\n",
      " [32.     35.     40.6    16.3618  6.09  ]\n",
      " [32.7    36.     41.5    16.517   5.8515]\n",
      " [32.8    36.     41.6    16.8896  6.1984]\n",
      " [33.5    37.     42.6    18.957   6.603 ]\n",
      " [35.     38.5    44.1    18.0369  6.3063]\n",
      " [35.     38.5    44.     18.084   6.292 ]\n",
      " [36.2    39.5    45.3    18.7542  6.7497]\n",
      " [37.4    41.     45.9    18.6354  6.7473]\n",
      " [38.     41.     46.5    17.6235  6.3705]\n",
      " [12.9    14.1    16.2     4.1472  2.268 ]\n",
      " [16.5    18.2    20.3     5.2983  2.8217]\n",
      " [17.5    18.8    21.2     5.5756  2.9044]\n",
      " [18.2    19.8    22.2     5.6166  3.1746]\n",
      " [18.6    20.     22.2     6.216   3.5742]\n",
      " [19.     20.5    22.8     6.4752  3.3516]\n",
      " [19.1    20.8    23.1     6.1677  3.3957]\n",
      " [19.4    21.     23.7     6.1146  3.2943]\n",
      " [20.4    22.     24.7     5.8045  3.7544]\n",
      " [20.5    22.     24.3     6.6339  3.5478]\n",
      " [20.5    22.5    25.3     7.0334  3.8203]\n",
      " [21.     22.5    25.      6.55    3.325 ]\n",
      " [21.1    22.5    25.      6.4     3.8   ]\n",
      " [22.     24.     27.2     7.5344  3.8352]\n",
      " [22.     23.4    26.7     6.9153  3.6312]\n",
      " [22.1    23.5    26.8     7.3968  4.1272]\n",
      " [23.6    25.2    27.9     7.0866  3.906 ]\n",
      " [24.     26.     29.2     8.8768  4.4968]\n",
      " [25.     27.     30.6     8.568   4.7736]\n",
      " [29.5    31.7    35.      9.485   5.355 ]\n",
      " [23.6    26.     28.7     8.3804  4.2476]\n",
      " [24.1    26.5    29.3     8.1454  4.2485]\n",
      " [25.6    28.     30.8     8.778   4.6816]\n",
      " [28.5    31.     34.     10.744   6.562 ]\n",
      " [33.7    36.4    39.6    11.7612  6.5736]\n",
      " [37.3    40.     43.5    12.354   6.525 ]\n",
      " [13.5    14.7    16.5     6.8475  2.3265]\n",
      " [14.3    15.5    17.4     6.5772  2.3142]\n",
      " [16.3    17.7    19.8     7.4052  2.673 ]\n",
      " [17.5    19.     21.3     8.3922  2.9181]\n",
      " [18.4    20.     22.4     8.8928  3.2928]\n",
      " [19.     20.7    23.2     8.5376  3.2944]\n",
      " [19.     20.7    23.2     9.396   3.4104]\n",
      " [19.8    21.5    24.1     9.7364  3.1571]\n",
      " [21.2    23.     25.8    10.3458  3.6636]\n",
      " [23.     25.     28.     11.088   4.144 ]\n",
      " [24.     26.     29.     11.368   4.234 ]\n",
      " [ 7.5     8.4     8.8     2.112   1.408 ]\n",
      " [12.5    13.7    14.7     3.528   1.9992]\n",
      " [13.8    15.     16.      3.824   2.432 ]\n",
      " [15.     16.2    17.2     4.5924  2.6316]\n",
      " [15.7    17.4    18.5     4.588   2.9415]\n",
      " [16.2    18.     19.2     5.2224  3.3216]\n",
      " [16.8    18.7    19.4     5.1992  3.1234]\n",
      " [17.2    19.     20.2     5.6358  3.0502]\n",
      " [17.8    19.6    20.8     5.1376  3.0368]\n",
      " [18.2    20.     21.      5.082   2.772 ]\n",
      " [19.     21.     22.5     5.6925  3.555 ]\n",
      " [19.     21.     22.5     5.9175  3.3075]\n",
      " [19.     21.     22.5     5.6925  3.6675]\n",
      " [19.3    21.3    22.8     6.384   3.534 ]\n",
      " [20.     22.     23.5     6.11    3.4075]\n",
      " [20.     22.     23.5     5.64    3.525 ]\n",
      " [20.     22.     23.5     6.11    3.525 ]\n",
      " [20.     22.     23.5     5.875   3.525 ]\n",
      " [20.     22.     23.5     5.5225  3.995 ]\n",
      " [20.5    22.5    24.      5.856   3.624 ]\n",
      " [20.5    22.5    24.      6.792   3.624 ]\n",
      " [20.7    22.7    24.2     5.9532  3.63  ]\n",
      " [21.     23.     24.5     5.2185  3.626 ]\n",
      " [21.5    23.5    25.      6.275   3.725 ]\n",
      " [22.     24.     25.5     7.293   3.723 ]\n",
      " [22.     24.     25.5     6.375   3.825 ]\n",
      " [22.6    24.6    26.2     6.7334  4.1658]\n",
      " [23.     25.     26.5     6.4395  3.6835]\n",
      " [23.5    25.6    27.      6.561   4.239 ]\n",
      " [25.     26.5    28.      7.168   4.144 ]\n",
      " [25.2    27.3    28.7     8.323   5.1373]\n",
      " [25.4    27.5    28.9     7.1672  4.335 ]\n",
      " [25.4    27.5    28.9     7.0516  4.335 ]\n",
      " [25.4    27.5    28.9     7.2828  4.5662]\n",
      " [25.9    28.     29.4     7.8204  4.2042]\n",
      " [26.9    28.7    30.1     7.5852  4.6354]\n",
      " [27.8    30.     31.6     7.6156  4.7716]\n",
      " [30.5    32.8    34.     10.03    6.018 ]\n",
      " [32.     34.5    36.5    10.2565  6.3875]\n",
      " [32.5    35.     37.3    11.4884  7.7957]\n",
      " [34.     36.5    39.     10.881   6.864 ]\n",
      " [34.     36.     38.3    10.6091  6.7408]\n",
      " [34.5    37.     39.4    10.835   6.2646]\n",
      " [34.6    37.     39.3    10.5717  6.3666]\n",
      " [36.5    39.     41.4    11.1366  7.4934]\n",
      " [36.5    39.     41.4    11.1366  6.003 ]\n",
      " [36.6    39.     41.3    12.4313  7.3514]\n",
      " [36.9    40.     42.3    11.9286  7.1064]\n",
      " [37.     40.     42.5    11.73    7.225 ]\n",
      " [37.     40.     42.4    12.3808  7.4624]\n",
      " [37.1    40.     42.5    11.135   6.63  ]\n",
      " [39.     42.     44.6    12.8002  6.8684]\n",
      " [39.8    43.     45.2    11.9328  7.2772]\n",
      " [40.1    43.     45.5    12.5125  7.4165]\n",
      " [40.2    43.5    46.     12.604   8.142 ]\n",
      " [41.1    44.     46.6    12.4888  7.5958]\n",
      " [30.     32.3    34.8     5.568   3.3756]\n",
      " [31.7    34.     37.8     5.7078  4.158 ]\n",
      " [32.7    35.     38.8     5.9364  4.3844]\n",
      " [34.8    37.3    39.8     6.2884  4.0198]\n",
      " [35.5    38.     40.5     7.29    4.5765]\n",
      " [36.     38.5    41.      6.396   3.977 ]\n",
      " [40.     42.5    45.5     7.28    4.3225]\n",
      " [40.     42.5    45.5     6.825   4.459 ]\n",
      " [40.1    43.     45.8     7.786   5.1296]\n",
      " [42.     45.     48.      6.96    4.896 ]\n",
      " [43.2    46.     48.7     7.792   4.87  ]\n",
      " [44.8    48.     51.2     7.68    5.376 ]\n",
      " [48.3    51.7    55.1     8.9262  6.1712]\n",
      " [52.     56.     59.7    10.6863  6.9849]\n",
      " [56.     60.     64.      9.6     6.144 ]\n",
      " [56.     60.     64.      9.6     6.144 ]\n",
      " [59.     63.4    68.     10.812   7.48  ]\n",
      " [ 9.3     9.8    10.8     1.7388  1.0476]\n",
      " [10.     10.5    11.6     1.972   1.16  ]\n",
      " [10.1    10.6    11.6     1.7284  1.1484]\n",
      " [10.4    11.     12.      2.196   1.38  ]\n",
      " [10.7    11.2    12.4     2.0832  1.2772]\n",
      " [10.8    11.3    12.6     1.9782  1.2852]\n",
      " [11.3    11.8    13.1     2.2139  1.2838]\n",
      " [11.3    11.8    13.1     2.2139  1.1659]\n",
      " [11.4    12.     13.2     2.2044  1.1484]\n",
      " [11.5    12.2    13.4     2.0904  1.3936]\n",
      " [11.7    12.4    13.5     2.43    1.269 ]\n",
      " [12.1    13.     13.8     2.277   1.2558]\n",
      " [13.2    14.3    15.2     2.8728  2.0672]\n",
      " [13.8    15.     16.2     2.9322  1.8792]]\n"
     ]
    }
   ],
   "source": [
    "print(X)"
   ]
  },
  {
   "cell_type": "code",
   "execution_count": null,
   "id": "d00f2012",
   "metadata": {
    "id": "d00f2012",
    "outputId": "a1b7b5f2-d24d-479f-87ed-3da960cca26b"
   },
   "outputs": [
    {
     "name": "stdout",
     "output_type": "stream",
     "text": [
      "[ 242.   290.   340.   363.   430.   450.   500.   390.   450.   500.\n",
      "  475.   500.   500.   340.   600.   600.   700.   700.   610.   650.\n",
      "  575.   685.   620.   680.   700.   725.   720.   714.   850.  1000.\n",
      "  920.   955.   925.   975.   950.    40.    69.    78.    87.   120.\n",
      "    0.   110.   120.   150.   145.   160.   140.   160.   169.   161.\n",
      "  200.   180.   290.   272.   390.   270.   270.   306.   540.   800.\n",
      " 1000.    55.    60.    90.   120.   150.   140.   170.   145.   200.\n",
      "  273.   300.     5.9   32.    40.    51.5   70.   100.    78.    80.\n",
      "   85.    85.   110.   115.   125.   130.   120.   120.   130.   135.\n",
      "  110.   130.   150.   145.   150.   170.   225.   145.   188.   180.\n",
      "  197.   218.   300.   260.   265.   250.   250.   300.   320.   514.\n",
      "  556.   840.   685.   700.   700.   690.   900.   650.   820.   850.\n",
      "  900.  1015.   820.  1100.  1000.  1100.  1000.  1000.   200.   300.\n",
      "  300.   300.   430.   345.   456.   510.   540.   500.   567.   770.\n",
      "  950.  1250.  1600.  1550.  1650.     6.7    7.5    7.     9.7    9.8\n",
      "    8.7   10.     9.9    9.8   12.2   13.4   12.2   19.7   19.9]\n"
     ]
    }
   ],
   "source": [
    "print(y)"
   ]
  },
  {
   "cell_type": "code",
   "execution_count": null,
   "id": "7fd82ac3",
   "metadata": {
    "id": "7fd82ac3"
   },
   "outputs": [],
   "source": [
    "from sklearn.model_selection import train_test_split\n",
    "X_train, X_test, y_train, y_test = train_test_split(X, y, test_size = 0.2, random_state = 0)"
   ]
  },
  {
   "cell_type": "code",
   "execution_count": null,
   "id": "76e13419",
   "metadata": {
    "id": "76e13419"
   },
   "outputs": [],
   "source": [
    "x=a*x^2+sx+c"
   ]
  },
  {
   "cell_type": "code",
   "execution_count": null,
   "id": "f15bf146",
   "metadata": {
    "id": "f15bf146",
    "outputId": "f97e5e6d-7f2b-4208-a8e2-25390fa2e10a"
   },
   "outputs": [
    {
     "data": {
      "text/plain": [
       "LinearRegression()"
      ]
     },
     "execution_count": 41,
     "metadata": {},
     "output_type": "execute_result"
    }
   ],
   "source": [
    "from sklearn.preprocessing import PolynomialFeatures\n",
    "from sklearn.linear_model import LinearRegression\n",
    "poly_reg = PolynomialFeatures(degree=2)\n",
    "X_poly = poly_reg.fit_transform(X_train)\n",
    "regressor = LinearRegression()\n",
    "regressor.fit(X_poly, y_train)"
   ]
  },
  {
   "cell_type": "code",
   "execution_count": null,
   "id": "eb525a7b",
   "metadata": {
    "id": "eb525a7b"
   },
   "outputs": [],
   "source": [
    "y_pred = regressor.predict(poly_reg.transform(X_test))\n",
    "#np.set_printoptions(precision=2)\n",
    "#print(np.concatenate((y_pred.reshape(len(y_pred),1), y_test.reshape(len(y_test),1)),1))"
   ]
  },
  {
   "cell_type": "code",
   "execution_count": null,
   "id": "00e4e74a",
   "metadata": {
    "id": "00e4e74a",
    "outputId": "945d7aa0-9f8b-4b6b-f5a3-32c8f8eee200"
   },
   "outputs": [
    {
     "data": {
      "text/plain": [
       "0.9731300545653556"
      ]
     },
     "execution_count": 43,
     "metadata": {},
     "output_type": "execute_result"
    }
   ],
   "source": [
    "from sklearn.metrics import r2_score\n",
    "r2_score(y_test, y_pred)"
   ]
  },
  {
   "cell_type": "code",
   "execution_count": null,
   "id": "0ce3a1c9",
   "metadata": {
    "id": "0ce3a1c9"
   },
   "outputs": [],
   "source": []
  }
 ],
 "metadata": {
  "colab": {
   "name": "Linear_multipal_polinimeal_regression.ipynb",
   "provenance": []
  },
  "kernelspec": {
   "display_name": "Python 3 (ipykernel)",
   "language": "python",
   "name": "python3"
  },
  "language_info": {
   "codemirror_mode": {
    "name": "ipython",
    "version": 3
   },
   "file_extension": ".py",
   "mimetype": "text/x-python",
   "name": "python",
   "nbconvert_exporter": "python",
   "pygments_lexer": "ipython3",
   "version": "3.10.6"
  }
 },
 "nbformat": 4,
 "nbformat_minor": 5
}
